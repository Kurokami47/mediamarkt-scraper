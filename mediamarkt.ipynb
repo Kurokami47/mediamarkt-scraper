{
 "cells": [
  {
   "cell_type": "code",
   "execution_count": 9,
   "metadata": {},
   "outputs": [
    {
     "name": "stderr",
     "output_type": "stream",
     "text": [
      "C:\\Users\\jagan\\AppData\\Local\\Packages\\PythonSoftwareFoundation.Python.3.11_qbz5n2kfra8p0\\LocalCache\\local-packages\\Python311\\site-packages\\numpy\\ma\\core.py:6289: RuntimeWarning: coroutine 'main' was never awaited\n",
      "  def __deepcopy__(self, memo=None):\n",
      "RuntimeWarning: Enable tracemalloc to get the object allocation traceback\n"
     ]
    }
   ],
   "source": [
    "import requests\n",
    "from bs4 import BeautifulSoup\n",
    "import pandas as pd\n",
    "import time\n",
    "\n",
    "class MediamarktScraper:\n",
    "    def __init__(self, url):\n",
    "        self.url = url\n",
    "        self.session = requests.Session()\n",
    "        self.headers = {\n",
    "            'User-Agent': 'Mozilla/5.0 (Windows NT 10.0; Win64; x64) AppleWebKit/537.36 (KHTML, like Gecko) Chrome/90.0.4430.212 Safari/537.36',\n",
    "            'Accept-Language': 'en-US, en;q=0.5'\n",
    "        }\n",
    "        self.soup = None  # Initialize the soup attribute\n",
    "\n",
    "    def _create_dataframe(self, product_title, price, description):\n",
    "        data = {\n",
    "            'Title': [product_title],\n",
    "            'Price': [price],\n",
    "            'Description': [description]\n",
    "        }\n",
    "        df = pd.DataFrame(data)\n",
    "        return df\n",
    "    \n",
    "    def scrape_product_data(self):\n",
    "        MAX_RETRIES = 5\n",
    "        for attempt in range(MAX_RETRIES):\n",
    "            try:\n",
    "                response = self.session.get(self.url, headers=self.headers)\n",
    "                response.raise_for_status()  # Raise an exception for 4xx or 5xx status codes\n",
    "                soup = BeautifulSoup(response.text, 'html.parser')  # Store the soup object as an attribute\n",
    "                print(soup)\n",
    "            except Exception as e:\n",
    "                print(e)\n",
    "                "
   ]
  },
  {
   "cell_type": "code",
   "execution_count": 8,
   "metadata": {},
   "outputs": [
    {
     "name": "stdout",
     "output_type": "stream",
     "text": [
      "EQ\u0012���M���G�\u001f�?W�����T7�G;�\\UM[�\u000e�a��7�݋�}A�����$#A\u0002GI\u0010\u0003@ \u000b�#�O�\u0015�\u001f\u001f\u0011�;���\u001a^?\"�,�D��.\u0004��G��E������|]����\u0013D|���ni���r�a\u0002\u0001�\u001f�+8�.W<i#\u001c a,�p0&��g$\u0004s�u��(i\u00048�\u0006x�\u0013h|��,]e������=\"\">���&gt;����h��OJ� ���\f��8̈\u001b\u0004�]\u0013\u0006@�\u0000QPw#@\u0000U\u0006\u0004@X\u0007m�\u0001�\u001b*�\u000e����$��6\u0003��k/[0�\n",
      ".ܜ��9�&lt;�,����#\u001e�\u000e�\u000f��x\u0002�7j8*\u00032�\u0013i\u001d�ui��{\u0016\u000f��f���@@j�\u000e\u000e\u0018�0x*Y�-r)W���O\u0004ò������$\u0014��A�Y\u001b·c�-A��L�\u0014\u0014�\u001e�[&gt;\u0004\u000f\u0015��z.3��\u0000��~���\u0013���\n",
      "\u0014g\u0005\u000bi�\u0016\u001e�B=��r�J��\t��\u0005&amp;X��\u001b�ٴI�[�w/��v��\u001b��{\u0015��*�(6�g�\u00077[��Ȅ�%t\u000e�S�X}'����\u0019Q�&lt;��ڑV(;n=Ti+�Fv/d�cMoa�3��#�m�-J�7\u000b�l�t\u0006�٘�h滛`�M�\u00135\u0003'y����_���Z��i\u000b\u0012�\u0002ܸ'4m\u0012c�?C��z\u0004���.=\u0011U\\�Ŧ�kM���\u0000�ZN\u0017B&amp;��\u0006���\u0010m9\u000e\u001a߲��k����b~��f+��'�\u0017�\u001d�M�n8�(ͫ�A�&lt;����eEP�k)$��~�@�h�P~�Ǉ�F�U\u00170�\u0004��;6�\u0017�����NS�۪0c����zG���<s481�i�\u0006f\u0018@�y\\\u001a��������\u0012x登x'�c�x��\u0003��u�n\u0004���\u0019��p�'d 7��=\"\">�!\f�A\u000e\u0001XB1�])\f�%\"�<x�p\u001c\u0001�f_�<��p��ő�+s�x�z�#�y��\u000267\u001f@\u0012�åv���1z_���\u0007�$k\u0017��`�\u001f}��q���*-1���\u0017\u0010�u��v� \u000f:,��v��;�y.#\u0019\u0005b�i�z�t��=\"\" \u0014\u0015�\u0016\u000fl�y�3\u0000�e�q�\u0010y�a��=\"\" \u0017\u00053y���c{\u0005�#✴\u0002ό�жl=\"\" \u001à�s���\u0017�sc�j���q�]vi�lt9f�j�\u0015��r8:�;�=\"s*�Y��z�\" ^�\u0003�\u000f@��\u0017i��,�n�ar#���0�k��\"p\u0004\u0007�e5��=\"\" �s=\"\" f�_=\"\" i�(̤a�=\"\" j81�\"=\"\" jux��x.�1\u0000���=\"\" p�ܽf��}��r�\u0000a=\"\" s�jx�n���\u0005s���\u0014���g�\u000e��%\u0016���\u0014c���ɲ\u0016\\\u0001�z��n\u0012�=\"\" ˈ�!c�9s=\"\" �\u0003h��<�\u0016�6�ds��b=\"\" �\u0004])�\u0007d=\"��\u0004�4TN\" �\u0011p�.k��{���\u0006gԍ�ݑb<�gw���\u0002f�[�ct\u0012�\u00125��!��v?=\"\" �\u0015\u0010w�n?`6c�gt=\"\" �+�\u0004�-����݋[\u001bێ�?2\u0007�2�\u0011g�����\u0018�m�bk��bbfkp���k��=\"\" �\\\u0000=\"\" �ge�=\"\" �q\u0003���η$j��5(�ewq�͑ub��`j*\u0000�6o;thq���l�a��m1f\u001a�=\"\" �tq��p}ݫ3�p\u0019�c�ҧ�0k��@��x!���`�j�=\"���rV\u0015���5C\" ��=\"\">��O.�\u001dZf�F��\u0011�?�{्�:��f�/��p \u0010��v�&lt;\u000e�,�NnY\u0001C\u0003�ǧ8 �)n8���\u0018�}���-&lt;)#tP\u001f\\�N{��Ѩ|\u0002�\u001b��S��\u0005%�`�_���{ �\u0018�\u0010e�R�����΃BTVF�\u001d�dY�\u0016&lt; ���[�D#���\u0001nx\u0011w3\tr�E�uGV����y�hA\u0017�[��\u0010ˋb�\u001d\u001e)At�\u0019������7/E��V\u001d���c\u0005�r̓��\u001b\u0000�J:#��!�],�g\u000b\u0015�1m��&gt;;ay��)�!�\u000f2�q���C\u0018P2L�z�\u001a\u0011��y��-�gB�&amp;��-�\u0013�\u0005x��+#\u000f�\u0019Dۚ0\u0015gp��6_�u����EN\u0013����\fl�Q�i\u00166:���n#��\u0013�0\u0015\u001a\u000f�\u001e���1���S�0��#E��V�u\u0015���lA���/\u0013;���M�'Q���}.���6eh�xu�\u0012y?V;�*�0(BQ��ً\u001b�F��/�{�,���p�W�e���k�\t��g�9�\u001b\u001c&lt;�)��4ѻ�Z �0q\n",
      "\u001c�!���^\u0000mx�\u0000���\"�M6E�����0Y�p�\f7\u001aF ���p��7��|ׇ�\u0013��\u001b�-��[@o\u0007�������\"���O�=�%˛M�l���&gt;���\u0017�$\u0010.3\u0018�~:\u001e��a�h�\u0010���L㞅\u0011iӉ2z\"9ޚPƿ�j5ϣ�X\t^�}\u0018j�S��%�~&amp;r�7�Y�ߐ�@�I\u000e��:t�\u0015��pG\"�0j\u000eb\u0004����Yy~���\u001b\u0001i�I��\n",
      "�yx�w�\u0014��\u0014���}rX�3i^���G�\u001a�.�\u001a���5\u0010^`$��r�H�DK��U�p��������A��AnQCV���\n",
      "�\u0015�Р�&gt;q�e�n~�b��y\"��[�\u001et�\u001b�!�\u000fh�\u0014,�\"\u0013��?w���qa떧�5\u0007%f�c1U�d����6�mD���=ץo˥\u0011��D�NEO�=SUFy��X�y&amp;6\u001azSيMo�\u0013�'��9G=��]x^�S�T��T��E���nB$[U������~�����\u0002m��\u0011]���@�\n",
      "#q_��2l\u0016�oI��\u001c����i L�7\ff�;O��_ݭ��\u0015'�\u0001E�۝��&amp;�G��y\t�q��M\fo*��&amp;�R���C�F-��O��\n",
      "+�����\t���\f�t�q�,��{�D�_j�?Dr�\u001f\f���C\u0004�\u001a��1��1�m\"\u0012�\u0006A�gǛ��=g�Ke��&gt;=]\u001a-�OL��[�\u0006��$�ED\u0014d��&gt;\u001bv�&gt;��!��\u0013wm�mL\n",
      "W�\t���=�\u001aI}_?a��+�\u000f{,�ݒ��|��P��y�\u0013\u0015i��|����u���.W�tQ��\u0010ͬ6���Z�n*C}_?\"��\u0006s�;��n��\t��w�m��|^ \u0010\u0004~4_��;;p���.�i�\u001f�@c\u001ec_�\n",
      "��r��)�����$\u0015�;d������Q�_�k����Ӳ����\u001eҞ\u001cU-���~����z{FX1\u0007�J!3\u000e?2,p�TR��LOЪ�[�/�\u0006�����_��\u0011Ӣ\n",
      "Fض�X\\ڣ�౪������ܶ\u0000�\u001c�dֳd��\u001fy�u��4*��1��;\u00123=\fxpSn���\u0018���� v��d�����~�����x����}��hi�v�\u001d�I0'l�4I;�q�������?���=����r���\u0016���3���\u0011e����g7Fy2�c0'�Q^�}�%�+��\u0018\u001c���\u0019����w��,!�����\"���\n",
      "��/�����ohLR-�\u0013�����?��/\u0000t��r����\u000b�/�S�%\u0019�\u0003Ƀ�߹�T\u0017Q�\u0007�����[��\u0018&lt;0��p�?� Z�?���\u00107j\u0013.��?�Vԝ�-�\u001c���˿�`�t�%�#�9o�&amp;���\u0012\u0012��!s�`��ĩ��]�����K\u0015\u001a�\u0018�}�\u0000��~�\u0019���&lt;W�\u001a��.�\u0012��ˬ�����Wb��l}�U�;^�$��?�\u0017���%Q������T��\f������|n�\u0001</x�p\u001c\u0001�f_�<��p��ő�+s�x�z�#�y��\u000267\u001f@\u0012�åv���1z_���\u0007�$k\u0017��`�\u001f}��q���*-1���\u0017\u0010�u��v�></s481�i�\u0006f\u0018@�y\\\u001a��������\u0012x登x'�c�x��\u0003��u�n\u0004���\u0019��p�'d></d�6\u0005oɞ�ǣ7z�o�\u001d���nm7�!�5\"~@۲���\u001az\u0012\u001e:7�����d�\u00036�x�,�\u001ch&></i#\u001c>\n"
     ]
    }
   ],
   "source": [
    "import requests\n",
    "from bs4 import BeautifulSoup\n",
    "\n",
    "headers = {\n",
    "    'User-Agent': 'Mozilla/5.0 (Windows NT 10.0; Win64; x64; rv:109.0) Gecko/20100101 Firefox/115.0',\n",
    "    'Accept': 'text/html,application/xhtml+xml,application/xml;q=0.9,image/avif,image/webp,*/*;q=0.8',\n",
    "    'Accept-Language': 'en-US, en;q=0.5',\n",
    "    'Accept-Encoding': 'gzip, deflate, br',\n",
    "    'Connection': 'keep-alive',\n",
    "    'Cookie': 'optid=4edf8f59-53d7-4a3e-904e-7f104b13c3c6; cf_clearance=nlmiGagK.pEXiz_qFjO9Eyn2_UlksW9emfxdvqlZ.Sk-1690824764-0-1-7d58e260.d69a165c.2a59bd80-0.2.1690824764; pwaconsent=v:1.0~required:1&acf:1,clf:1,cli:1,cxk:1,gfb:1,gtm:1,ocx:1,pbx:1,reb:1|comfort:1&baz:1,cne:1,con:1,fix:1,gfa:1,gfc:1,goa:1,gom:1,grc:1,lob:1,opc:1,opt:1,orc:1,ore:1,prd:1,sen:1,sis:1,spe:1,sst:1,swo:1|marketing:1&cri:1,fab:1,fbn:1,fcm:1,gad:1,gam:1,gcl:1,gcm:1,gdv:1,gos:1,gsa:1,gse:1,gst:1,lkd:1,msb:1,omp:1,pin:1,trd:1,twt:1,wdg:1,yte:1|; _gcl_au=1.1.1286962164.1690788325; _ga=GA1.2.935e3238-dacf-469e-9e34-b11b677e815b; BVBRANDID=3a4f0cfb-db8d-487b-8978-f402b7a680e6; _pin_unauth=dWlkPU56WTRORGN6WVdRdFltUmlNeTAwTXpnekxUazJOekl0WW1Rek9UZzJOekZsWXpNMw; _cfuvid=7jsCublU09.0C1JvROek9tPSqI5KBQYcVnoOE53K5QE-1690788305688-0-604800000; t_fpd=true; _msbps=99; s_id=803d0e9a-a2f4-4f17-a46c-4e7c0ceb627e; MC_PS_SESSION_ID=803d0e9a-a2f4-4f17-a46c-4e7c0ceb627e; p_id=803d0e9a-a2f4-4f17-a46c-4e7c0ceb627e; MC_PS_USER_ID=803d0e9a-a2f4-4f17-a46c-4e7c0ceb627e; ts_id=384945d2-3ad3-442b-a248-e5547320c67b; __cf_bm=00O8J7K0daYSGn3oavtwBxOYUir8v9Hbdwh975P3zY0-1690873314-0-AQ01/AXzS8XgPmLBRp4OrfLByx7ruHEn2iiQvzyfQ1Y7H6AoaX7cTvKcsczbARRFvHYkvDPeOKmdFj1yiuKpF1o=',\n",
    "    'Upgrade-Insecure-Requests': '1',\n",
    "    'Sec-Fetch-Dest': 'document',\n",
    "    'Sec-Fetch-Mode': 'navigate',\n",
    "    'Sec-Fetch-Site': 'cross-site',\n",
    "    'Sec-Fetch-User': '?1',\n",
    "    'Sec-GPC': '1',\n",
    "    'TE': 'trailers'\n",
    "}\n",
    "\n",
    "url = 'https://www.mediamarkt.es/es/product/_secadora-aeg-t7dbg841-bomba-de-calor-8-kg-a-blanco-1455590.html'\n",
    "try:\n",
    "    response = requests.get(url, headers=headers)\n",
    "    # response.raise_for_status()  # Raise an exception for 4xx or 5xx status codes\n",
    "    soup = BeautifulSoup(response.text, 'html.parser')\n",
    "    print(soup)\n",
    "except Exception as e:\n",
    "    print(e)\n"
   ]
  },
  {
   "cell_type": "code",
   "execution_count": 10,
   "metadata": {},
   "outputs": [
    {
     "name": "stdout",
     "output_type": "stream",
     "text": [
      "<html lang=\"en-US\"><head><title>Just a moment...</title><meta content=\"text/html; charset=utf-8\" http-equiv=\"Content-Type\"/><meta content=\"IE=Edge\" http-equiv=\"X-UA-Compatible\"/><meta content=\"noindex,nofollow\" name=\"robots\"/><meta content=\"width=device-width,initial-scale=1\" name=\"viewport\"/><link href=\"/cdn-cgi/styles/challenges.css\" rel=\"stylesheet\"/></head><body class=\"no-js\"><div class=\"main-wrapper\" role=\"main\"><div class=\"main-content\"><noscript><div id=\"challenge-error-title\"><div class=\"h2\"><span class=\"icon-wrapper\"><div class=\"heading-icon warning-icon\"></div></span><span id=\"challenge-error-text\">Enable JavaScript and cookies to continue</span></div></div></noscript></div></div><script>(function(){window._cf_chl_opt={cvId: '2',cZone: 'www.mediamarkt.es',cType: 'managed',cNounce: '13422',cRay: '7efccca4cd1c0dac',cHash: '12df68dae3d573f',cUPMDTk: \"\\/es\\/product\\/_secadora-aeg-t7dbg841-bomba-de-calor-8-kg-a-blanco-1455590.html?enforcedReload=true&__cf_chl_tk=kiRPWVyqPom0QXZSLW.E1cr4sh4R5M83htoeTt.7JQg-1690879468-0-gaNycGzNEGU\",cFPWv: 'b',cTTimeMs: '1000',cMTimeMs: '0',cTplV: 5,cTplB: 'cf',cK: \"\",fa: \"/es/product/_secadora-aeg-t7dbg841-bomba-de-calor-8-kg-a-blanco-1455590.html?enforcedReload=true&amp;__cf_chl_f_tk=kiRPWVyqPom0QXZSLW.E1cr4sh4R5M83htoeTt.7JQg-1690879468-0-gaNycGzNEGU\",md: \"NMtRo_A5aySOQLryNsKXNLhJoWq97T_KUqGRdh7QLOI-1690879468-0-Ac7YuB1vH7HF1Qj9XM7LRmpNiAHZNRAGzjrtal4f4dGxCMDzM6F5N81E3V-Vj671fZfsVfCQjbvDqyjRxGq53j2arsjuQjUu15pfT-m011YEKo0DM3XwxVN4fqQJcw2uwCIm6pSOfXptb0jSKM8RtvkA592XVdVFVV1kCS443PEe7qrNZL70HEdO7JFzGWojGcvUGQZCnJv1GdlMeSI_iPDiDNztPXxP3tBYEEstrHs3oNq_yUIPJ2mwIM3Yy4x1kTBDSI7u7F2jlEG7A9ljBza-6FtisegfHwqIOgNYoFpK1eZ2CRD8-Dhyuyq8FG2TfttRoXIMgWJXp1mp5QVv9-_GvCR68o3fpwJDhblIZwsBFuvBo8OULYkGt3i-yiU7q_3WznY7gqvSrZ_TzbbnxkYmM_L0X1dmRHC3aQD6NeoKiEq_t75RhZiWncaSW_RIWp49eads0161c14Nw1fMMvvH-upzVlvVTlwTF_RotS5YZvSdapTKCTiqI3rqq31Zvq6tzuX8vzfxWV9IQX29PsQDkMjMD01aws367FWxi4efNl1Um9EzrbI7F0HTtGrsYXzr5ignRvIt29lplq9zYV-n-CczYJBJwHmQg5AemBVZHygTCkCAsGFm7PJHkvAxpHWeXTgMOwU5X-Ig0wGDA0r32NX59nR5kSzFcg5OT4nhme8Y-7P5L20d-qCUj2LqNfEcRQG9YaGy7ZuDwzrTxOyfwONWjnN5bAh0Fa_svaBGH3fs7duvFrmZIN74KfrU9XZu0APgx_hIiEp6pRO76lMCT4U1eh7cZ9gGHGhiJ_AwoeNeYSq_e3rw6EeFmFtgg4f_crpQnTiC2I1KOGVE23gtpzSOiTbLD9rDLHvtFnOWrYCXIO_7lT31J1cY9kqwC15707s9tbT0bE0y-zpFgQVqBT087dxbE482YkysDcPEjSHIEicZLwX6PeKw4Eu0y1RCsrZFXbCmogEPLIwGle176inmM-VbkQnekjTOqW8XP0kYDNK8Wv0whjg-7o6Ng2NoPOnh_RZf31zn7BzS1zLCcL-4FFyHhIWV5mhs6kVHZLvZ8MUZ9WIsm6tf2PrHLfZtBSzwa14cDW-uupvBDHhBiez04UaT37XKnUHY8XMBFqk9vzsDfpLKauOiQpMteCtEHMXgOzlmBLBRkh0MAqbQHIcnbQGisGUoEzuLPzi-xQ6Mc6JkSuCCxt9qXAyUhkrDTW2tihndscFV0oLToF1af7uUdx8BqziqxZiYfOyavP44hs2bS8wA6CiSbc4Y2dM9T7Mo0Th-CwKJsd1YQo-nhXpARZnSpVO7iTzZrN-UVA7NpOkYLP06qAEOm0BqDs1e1mfpNuYR0Ndq0F9BX7NFATs-QErhlHEn6MbyoKLk7oEbOWRECoVMe0XsUjD7AzML0mnXT0KnVdgDnO2Ln7LATARXQbgG-Qf8fIeiK_magOVpw4OSgGfgbpOzX_3lhaucysdJGo3i5ndshR-Dur-gbv_D2ly-JT7EUFH-PtfM2tKe4Vn4jfCi1eTz0sxZ_9BTXUit3XM_603NB6Ny6KXhNhLziW5W_ir2l1oI-a3NxZbJXHQO1gl13zr1lsaSOcjOnVBCnVzWU_SmTluBTgPk0uqrhM_sBa6N_nafyE7EMNiRSwFGUas7XnMP3FE91pL4KUzc7fwXhb97kPCysqx6rw6hI6ZQnJl5D1faUCg_lbAW-8AYcAl32u5q-ybAdZDy7xCDXhaO7-YEkK-gQ1b2OwkEgDcetOZ74LEAWjvXFBD4ZTNQDGlTOnNIg3igI2NSKlwimyqiFjZDxMRbY8UrZuPdtCcDlHTxvt2tmdxwiyKEOmGfIc3e8l8XNWIkXbilbTZnbtGYN_eBHKMOMEREqP4iWSi1mAueeZ00lj11A-kCqWUbxNQa0gHrn-wEh0tsZRGc5__SJj7UMv__8_ZPWk8QxPProtnBBJ4oAxy0UzRMkGzlxcyGzgOUtmtGzjSzXpLOr1e1zNz5JZeb-jC8unOdMO-AQLCBpHJuX2iav_dqOduAa2Zex28vBDbxT_yR4ldA2_mnzs-hedPVxr6e5M-Yz0gTrfSeWduptfhDHj7nY-IGMLldKg8gAUAePoTP6KTWzCp4kBfcP9OvDSYK_aWLHIWFr9864HhFLVb4hTTvz-Ff-Jc8uZtjiWmpGTZ-5ukOcUE3RQbo9F-P7ph2rDp3QCFU27bD3x1ALtNvS-xuAJ81EHr1rG3XNeGWKa_0y7rrnpsHsV0Te2Cx7hu9EjiN3EH91Y_weSI3ANIjIJb4ay6y2RrOb-sas_cJWABKAHwRPpLs3rruNmick_LpeQVyqDI8_wg1KBFfnZGs6GSXBaFhYKP5CnRnHCIBc4CDTKmT96OuWhrY5wHSxhONhc4jMgQLRYNEf6YhhgGfAUDYZIAJdkoYFHs-_xk0S7Q6gPskrsBFPodcEni8Tkyaby4K37yWTfrTZzqd7As5sPpIjQkkXpzyolqz-m_lrItn_veQt4HUgo8Rt9uSiiAsQt-r2EIjuYVB82vDzSFmfPgLDfQgDbJ5lmxpEAJ-T1SEnzpor7iHFsRIcoG4Ym7laC-6204DwywIGLvaXVogZW1UZ8C96iNCGMg8qLXSL_rK2CbLepr0X6zZaVN7H-64weBQ63jb0zpGPV0nFGkPVV7kPoT-u93UXlaq9RobA2Ls3kkeQgTt8mSprq5TJ0D2yG2kdGT1OrVL4BLJuUp7MYOIgJC23HlXgBoz_X0PwkyA_SzODbATRQHtv3ZBs0ggIlw7Ts0VvO1JdW9QuHWKV9sOyk0hfu7x0xwfO617IMuLW_inEBKtvahDGuSS7woKxj1u0bp-lp4-nZ4JrnpJYZSScCMf7_jpFTNVJ3laucrrRxbCYHVQp2sVVz_uFoV2dmmMQS1NiN_-3x-Vi-d_9DRj618ujyVv03pKC8J2krDK6hTAm2KSjcG4wu11-LFl08oLWhAPqxdTZX6XgU5r3dv1q4OugrRikgbyzW5hOQTq30Dr6IP8MEYvnC-YImofO8TuTwdZGBcNHDsddeZPdhZeyEZ-NyCoMdDoXfmV7a04uUn8GNvTbIEhmewuln_cLXb8G8Z19RQie3weBK-twV2o9c_5ecykxMKJzqUpI2kd3WtbTJR1EoBfG57mh45xE7buiBkiMW6LXOnDy80OPXgu02ejl4aFiFOUV3v2_FrYJmK-HNeVzo9AUmsle-xLaEfgOvtZkPv6HFVu5L8bAy7iJr4byx6WKMH-AvwkOTjZloQ6qmL8SaqOCTYsWk6xZFiQ0e_GU9xosMLlTEFs8dMBu7G_3peaJNEeL9ZyxYCTtBtW_Te9QL3gX-ESDF9kHg7mh8o5rgnVTyDxcj_HdaHnjUbz51O8PK4waFO8FiBaiPT1s2cP0JzBBSrn6sUYIgUZI5-phzodEftFbaInO0tn9NgNxbJIfDbpO6FIvxlvIH0xtztpJok24C5VebLmHbvNlyClQtrqJj_VxYk2tuzyYhcYLZiMs5eoYJSvmpSDXd7Pvde2y3fPkQXN2zkuCsQ6xp0egNbgZM-DzGoxXrg55q_qN-a2rlLYpsM8F8FeLuRhHIMg-sQXbFF_8HvfF_ck-_CjXXnyhEu9hCGuOMwGFfEH3LSD4T0AnF5GBLOpPEgiABZxnWE96LZqpD-AIYUR2V048AMCfXEsq7lffSFTVDoIB2pPjdGmr3psx96YJ4DXmIKUVHZYP8D_0bMaOSIbE9-DJhl365FAFOVS5iZ3rDK_mG6nuvWoGG5tY-SiWv0mT7brLFuliaH3tjS5XyDDFXk1NFItWX5AmyFMovKx0WaqEoqzlG2C4NVUHyePUYR4Qb_gPNHb967lLSyFt6G6wUTxx7aBiCQQaCB94JblCogE8M3j9qBKHOdtkwISjbx6ZrIUFGrK5cr6Jzrwicd6MWzPe9QPa5QPlSjYcGnwCw0AdsI3HA-9WV-CVgnLi6M6SofYxUzC5HjcrbxylrNREozgoJ5zgUaa4T5OKebDqlvp3LPpQgHuzdndqKFcZAbZhFNN0eTmNGwia-SRVkd_YfSquAPSayFgNsztRSypcTyw1jA9moJY6kTz3BSEeXG1U5imJpbBBjPsnvLPAWMfXmxkw5YyFv1ewwmn\",cRq: {ru: 'aHR0cHM6Ly93d3cubWVkaWFtYXJrdC5lcy9lcy9wcm9kdWN0L19zZWNhZG9yYS1hZWctdDdkYmc4NDEtYm9tYmEtZGUtY2Fsb3ItOC1rZy1hLWJsYW5jby0xNDU1NTkwLmh0bWw/ZW5mb3JjZWRSZWxvYWQ9dHJ1ZQ==',ra: 'TW96aWxsYS81LjAgKFdpbmRvd3MgTlQgMTAuMDsgV2luNjQ7IHg2NCkgQXBwbGVXZWJLaXQvNTM3LjM2IChLSFRNTCwgbGlrZSBHZWNrbykgQ2hyb21lLzExNS4wLjAuMCBTYWZhcmkvNTM3LjM2',rm: 'R0VU',d: 'CWAYY5s1sm+fMxTpYELUfL8pvbLBIC7/Ha/dFduVaVQIP3OCb9QuKE6vKA6jmCp9ePIwg45kKmxBzg6nSzGXyx4OGE7QgjiK0NxiU8awQ+77pGwZ7IoQN47sHG9I175PPl4my5HM/u0rBOXbdltuWt78pA7lUY0xlmDFBTnr+anOaar7hSJqbangULC4+gSXcvrPsvU+Yh6xAAhGqu96VRrZi9VQTTb2Fb2ZS1vda9iHBZCCXPD2MIAzmbvQ7828FrlldwhEhGiN1abZs5i6ENlWTkiBmKD87iSfHn3qJuZp0MlDfhCNV0ihdfXOiH8n0WBlGYdosxt8YlcjDXCHT408qF4LbGUsCod6JwOfI0cCdIaAX/azH5A0BwkmQt5nHlSCR94F+5bOvxMOMUbkj2m/PdvodH+RuUwPA//QxKee0DNRUnOs38Fv/CvuBf8qxVhSaMw9t5UFfXuyGJMC8PpqPrEdY4RQBJt0eSKxKwxQdFlZoq9Ni/etYhDmIQzp',t: 'MTY5MDg3OTQ2OC4yODgwMDA=',cT: Math.floor(Date.now() / 1000),m: 'npkunVYpeoa/6AcNltZPYc30pfo5zm+9OrggtnkvJiE=',i1: 'Xjc59c4tqV/DmrBX9742Sw==',i2: 'PxYY3w3zXh/vHq7frl/VbA==',zh: '4Qc6italvA3t72Og6aWBXJjAxv3sQ0UlI4hhu4m1q8Y=',uh: '49m45payZ+JaK1qP7bVg0G3ztg3QEguIG+n0xYKxzGA=',hh: 'GB5J5nSsrhYr8tBqq7a4L4+NziqLOJM206Cl5ercDzk=',}};var cpo = document.createElement('script');cpo.src = '/cdn-cgi/challenge-platform/h/b/orchestrate/chl_page/v1?ray=7efccca4cd1c0dac';window._cf_chl_opt.cOgUHash = location.hash === '' && location.href.indexOf('#') !== -1 ? '#' : location.hash;window._cf_chl_opt.cOgUQuery = location.search === '' && location.href.slice(0, location.href.length - window._cf_chl_opt.cOgUHash.length).indexOf('?') !== -1 ? '?' : location.search;if (window.history && window.history.replaceState) {var ogU = location.pathname + window._cf_chl_opt.cOgUQuery + window._cf_chl_opt.cOgUHash;history.replaceState(null, null, \"\\/es\\/product\\/_secadora-aeg-t7dbg841-bomba-de-calor-8-kg-a-blanco-1455590.html?enforcedReload=true&__cf_chl_rt_tk=kiRPWVyqPom0QXZSLW.E1cr4sh4R5M83htoeTt.7JQg-1690879468-0-gaNycGzNEGU\" + window._cf_chl_opt.cOgUHash);cpo.onload = function() {history.replaceState(null, null, ogU);};}document.getElementsByTagName('head')[0].appendChild(cpo);}());</script></body></html>\n"
     ]
    }
   ],
   "source": [
    "from selenium import webdriver\n",
    "from bs4 import BeautifulSoup\n",
    "\n",
    "url = 'https://www.mediamarkt.es/es/product/_secadora-aeg-t7dbg841-bomba-de-calor-8-kg-a-blanco-1455590.html'\n",
    "headers = {\n",
    "    'User-Agent': 'Mozilla/5.0 (Windows NT 10.0; Win64; x64; rv:109.0) Gecko/20100101 Firefox/115.0',\n",
    "}\n",
    "\n",
    "# Use the appropriate webdriver for your browser (e.g., Chrome, Firefox, etc.)\n",
    "driver = webdriver.Chrome()  # You need to have Chrome and chromedriver installed\n",
    "\n",
    "try:\n",
    "    driver.get(url)\n",
    "    # Sleep for a few seconds to allow the page to load (you can adjust the time as needed)\n",
    "    driver.implicitly_wait(10)\n",
    "\n",
    "    # Get the page source after JavaScript execution\n",
    "    page_source = driver.page_source\n",
    "\n",
    "    # Parse the page source using BeautifulSoup\n",
    "    soup = BeautifulSoup(page_source, 'html.parser')\n",
    "    print(soup)\n",
    "\n",
    "finally:\n",
    "    driver.quit()\n"
   ]
  },
  {
   "cell_type": "code",
   "execution_count": 10,
   "metadata": {},
   "outputs": [
    {
     "name": "stdout",
     "output_type": "stream",
     "text": [
      "HTML content saved to 'output.html'\n"
     ]
    }
   ],
   "source": [
    "from selenium import webdriver\n",
    "from bs4 import BeautifulSoup\n",
    "\n",
    "url = 'https://www.mediamarkt.es/es/product/_secadora-aeg-t7dbg841-bomba-de-calor-8-kg-a-blanco-1455590.html'\n",
    "headers = {\n",
    "    'User-Agent': 'Mozilla/5.0 (Windows NT 10.0; Win64; x64; rv:109.0) Gecko/20100101 Firefox/115.0',\n",
    "}\n",
    "\n",
    "# Use the appropriate webdriver for your browser (e.g., Chrome, Firefox, etc.)\n",
    "options = webdriver.ChromeOptions()\n",
    "options.add_argument('--headless')  # Run in headless mode (without opening a visible browser window)\n",
    "options.add_argument('--disable-gpu')  # Disable GPU acceleration for headless mode\n",
    "driver = webdriver.Chrome(options=options)  # Make sure to specify the correct path to chromedriver\n",
    "\n",
    "try:\n",
    "    driver.get(url)\n",
    "    # Sleep for a few seconds to allow the page to load (you can adjust the time as needed)\n",
    "    driver.implicitly_wait(10)\n",
    "\n",
    "    # Get the page source after JavaScript execution\n",
    "    page_source = driver.page_source\n",
    "\n",
    "    # Parse the page source using BeautifulSoup\n",
    "    soup = BeautifulSoup(page_source, 'html.parser')\n",
    "\n",
    "    # Save the HTML content to a file\n",
    "    with open('output.html', 'w', encoding='utf-8') as file:\n",
    "        file.write(soup.prettify())\n",
    "\n",
    "    print(\"HTML content saved to 'output.html'\")\n",
    "\n",
    "finally:\n",
    "    driver.quit()\n"
   ]
  },
  {
   "cell_type": "code",
   "execution_count": 13,
   "metadata": {},
   "outputs": [
    {
     "name": "stdout",
     "output_type": "stream",
     "text": [
      "HTML content not loaded\n"
     ]
    }
   ],
   "source": [
    "from selenium import webdriver\n",
    "from bs4 import BeautifulSoup\n",
    "\n",
    "url = 'https://www.mediamarkt.es/es/product/_secadora-aeg-t7dbg841-bomba-de-calor-8-kg-a-blanco-1455590.html'\n",
    "headers = {\n",
    "    'User-Agent': 'Mozilla/5.0 (Windows NT 10.0; Win64; x64; rv:109.0) Gecko/20100101 Firefox/115.0',\n",
    "}\n",
    "\n",
    "# Use the appropriate webdriver for your browser (e.g., Chrome, Firefox, etc.)\n",
    "options = webdriver.ChromeOptions()\n",
    "options.add_argument('--headless')  # Run in headless mode (without opening a visible browser window)\n",
    "options.add_argument('--disable-gpu')  # Disable GPU acceleration for headless mode\n",
    "driver = webdriver.Chrome(options=options)  # Make sure to specify the correct path to chromedriver\n",
    "\n",
    "try:\n",
    "    driver.get(url)\n",
    "    # Sleep for a few seconds to allow the page to load (you can adjust the time as needed)\n",
    "    driver.implicitly_wait(10)\n",
    "\n",
    "    # Get the page source after JavaScript execution\n",
    "    page_source = driver.page_source\n",
    "\n",
    "    # Parse the page source using BeautifulSoup\n",
    "    soup = BeautifulSoup(page_source, 'html.parser')\n",
    "\n",
    "    # Find the specific element using the provided attributes\n",
    "    element = soup.find('h1', {'color': '#3a3a3a', 'font-family': 'default', 'spacing': 'base'})\n",
    "\n",
    "\n",
    "    if element:\n",
    "        # Save the inner HTML content of the element to a file\n",
    "        with open('output.html', 'w', encoding='utf-8') as file:\n",
    "            file.write(str(element))\n",
    "            print(\"HTML content of the element saved to 'output.html'\")\n",
    "    else:\n",
    "            print(\"HTML content not loaded\")\n",
    "\n",
    "\n",
    "\n",
    "\n",
    "finally:\n",
    "    driver.quit()\n"
   ]
  },
  {
   "cell_type": "code",
   "execution_count": 16,
   "metadata": {},
   "outputs": [
    {
     "ename": "TimeoutException",
     "evalue": "Message: \nStacktrace:\nBacktrace:\n\tGetHandleVerifier [0x00007FF67B863E62+57250]\n\t(No symbol) [0x00007FF67B7DBC02]\n\t(No symbol) [0x00007FF67B6AE0BB]\n\t(No symbol) [0x00007FF67B6E765E]\n\t(No symbol) [0x00007FF67B6E774C]\n\t(No symbol) [0x00007FF67B720267]\n\t(No symbol) [0x00007FF67B7067EF]\n\t(No symbol) [0x00007FF67B71E312]\n\t(No symbol) [0x00007FF67B706583]\n\t(No symbol) [0x00007FF67B6DCC71]\n\t(No symbol) [0x00007FF67B6DDE54]\n\tGetHandleVerifier [0x00007FF67BB14CF2+2879026]\n\tGetHandleVerifier [0x00007FF67BB66F30+3215472]\n\tGetHandleVerifier [0x00007FF67BB5FD4F+3186319]\n\tGetHandleVerifier [0x00007FF67B8F5505+652869]\n\t(No symbol) [0x00007FF67B7E7518]\n\t(No symbol) [0x00007FF67B7E35F4]\n\t(No symbol) [0x00007FF67B7E36EC]\n\t(No symbol) [0x00007FF67B7D38E3]\n\tBaseThreadInitThunk [0x00007FFDDC7B7614+20]\n\tRtlUserThreadStart [0x00007FFDDD0826B1+33]\n",
     "output_type": "error",
     "traceback": [
      "\u001b[1;31m---------------------------------------------------------------------------\u001b[0m",
      "\u001b[1;31mTimeoutException\u001b[0m                          Traceback (most recent call last)",
      "Cell \u001b[1;32mIn[16], line 20\u001b[0m\n\u001b[0;32m     18\u001b[0m \u001b[39m# Wait until the element is present\u001b[39;00m\n\u001b[0;32m     19\u001b[0m wait \u001b[39m=\u001b[39m WebDriverWait(driver, \u001b[39m10\u001b[39m)\n\u001b[1;32m---> 20\u001b[0m element_present \u001b[39m=\u001b[39m wait\u001b[39m.\u001b[39;49muntil(EC\u001b[39m.\u001b[39;49mpresence_of_element_located((By\u001b[39m.\u001b[39;49mCLASS_NAME, \u001b[39m'\u001b[39;49m\u001b[39msc-hLBbgP.eavhnf\u001b[39;49m\u001b[39m'\u001b[39;49m))) \u001b[39m# The class name with multiple classes separated by dot\u001b[39;00m\n\u001b[0;32m     22\u001b[0m \u001b[39m# Get the page source after JavaScript execution\u001b[39;00m\n\u001b[0;32m     23\u001b[0m page_source \u001b[39m=\u001b[39m driver\u001b[39m.\u001b[39mpage_source\n",
      "File \u001b[1;32m~\\AppData\\Local\\Packages\\PythonSoftwareFoundation.Python.3.11_qbz5n2kfra8p0\\LocalCache\\local-packages\\Python311\\site-packages\\selenium\\webdriver\\support\\wait.py:90\u001b[0m, in \u001b[0;36mWebDriverWait.until\u001b[1;34m(self, method, message)\u001b[0m\n\u001b[0;32m     88\u001b[0m     \u001b[39mif\u001b[39;00m time\u001b[39m.\u001b[39mmonotonic() \u001b[39m>\u001b[39m end_time:\n\u001b[0;32m     89\u001b[0m         \u001b[39mbreak\u001b[39;00m\n\u001b[1;32m---> 90\u001b[0m \u001b[39mraise\u001b[39;00m TimeoutException(message, screen, stacktrace)\n",
      "\u001b[1;31mTimeoutException\u001b[0m: Message: \nStacktrace:\nBacktrace:\n\tGetHandleVerifier [0x00007FF67B863E62+57250]\n\t(No symbol) [0x00007FF67B7DBC02]\n\t(No symbol) [0x00007FF67B6AE0BB]\n\t(No symbol) [0x00007FF67B6E765E]\n\t(No symbol) [0x00007FF67B6E774C]\n\t(No symbol) [0x00007FF67B720267]\n\t(No symbol) [0x00007FF67B7067EF]\n\t(No symbol) [0x00007FF67B71E312]\n\t(No symbol) [0x00007FF67B706583]\n\t(No symbol) [0x00007FF67B6DCC71]\n\t(No symbol) [0x00007FF67B6DDE54]\n\tGetHandleVerifier [0x00007FF67BB14CF2+2879026]\n\tGetHandleVerifier [0x00007FF67BB66F30+3215472]\n\tGetHandleVerifier [0x00007FF67BB5FD4F+3186319]\n\tGetHandleVerifier [0x00007FF67B8F5505+652869]\n\t(No symbol) [0x00007FF67B7E7518]\n\t(No symbol) [0x00007FF67B7E35F4]\n\t(No symbol) [0x00007FF67B7E36EC]\n\t(No symbol) [0x00007FF67B7D38E3]\n\tBaseThreadInitThunk [0x00007FFDDC7B7614+20]\n\tRtlUserThreadStart [0x00007FFDDD0826B1+33]\n"
     ]
    }
   ],
   "source": [
    "from selenium import webdriver\n",
    "from selenium.webdriver.common.by import By\n",
    "from selenium.webdriver.support.ui import WebDriverWait\n",
    "from selenium.webdriver.support import expected_conditions as EC\n",
    "from bs4 import BeautifulSoup\n",
    "\n",
    "url = 'https://www.mediamarkt.es/es/product/_secadora-aeg-t7dbg841-bomba-de-calor-8-kg-a-blanco-1455590.html'\n",
    "\n",
    "# Use the appropriate webdriver for your browser (e.g., Chrome, Firefox, etc.)\n",
    "options = webdriver.ChromeOptions()\n",
    "# options.add_argument('--headless')  # Run in headless mode (without opening a visible browser window)\n",
    "# options.add_argument('--disable-gpu')  # Disable GPU acceleration for headless mode\n",
    "driver = webdriver.Chrome(options=options)  # Make sure to specify the correct path to chromedriver\n",
    "\n",
    "try:\n",
    "    driver.get(url)\n",
    "\n",
    "    # Wait until the element is present\n",
    "    wait = WebDriverWait(driver, 10)\n",
    "    element_present = wait.until(EC.presence_of_element_located((By.CLASS_NAME, 'sc-hLBbgP.eavhnf'))) # The class name with multiple classes separated by dot\n",
    "\n",
    "    # Get the page source after JavaScript execution\n",
    "    page_source = driver.page_source\n",
    "\n",
    "    # Parse the page source using BeautifulSoup\n",
    "    soup = BeautifulSoup(page_source, 'html.parser')\n",
    "\n",
    "    # Find the specific element using the class\n",
    "    element = soup.find('h1', class_='sc-hLBbgP eavhnf') # Use class_ to avoid conflicts with Python's class keyword\n",
    "\n",
    "    with open('outputs.html', 'w', encoding='utf-8') as file:\n",
    "            file.write(str(element))\n",
    "            print(\"HTML content of saved to 'output.html'\")\n",
    "\n",
    "\n",
    "    if element:\n",
    "        # Save the inner HTML content of the element to a file\n",
    "        with open('output.html', 'w', encoding='utf-8') as file:\n",
    "            file.write(str(element))\n",
    "        print(\"HTML content of the element saved to 'output.html'\")\n",
    "    else:\n",
    "        print(\"HTML content not loaded\")\n",
    "\n",
    "finally:\n",
    "    driver.quit()\n"
   ]
  },
  {
   "cell_type": "code",
   "execution_count": 11,
   "metadata": {},
   "outputs": [
    {
     "ename": "AttributeError",
     "evalue": "'WebDriver' object has no attribute 'find_element_by_xpath'",
     "output_type": "error",
     "traceback": [
      "\u001b[1;31m---------------------------------------------------------------------------\u001b[0m",
      "\u001b[1;31mAttributeError\u001b[0m                            Traceback (most recent call last)",
      "Cell \u001b[1;32mIn[11], line 22\u001b[0m\n\u001b[0;32m     19\u001b[0m time\u001b[39m.\u001b[39msleep(\u001b[39m10\u001b[39m)\n\u001b[0;32m     21\u001b[0m \u001b[39m# Try to find and click the checkbox\u001b[39;00m\n\u001b[1;32m---> 22\u001b[0m checkbox \u001b[39m=\u001b[39m driver\u001b[39m.\u001b[39;49mfind_element_by_xpath(\u001b[39m\"\u001b[39m\u001b[39m//input[@type=\u001b[39m\u001b[39m'\u001b[39m\u001b[39mcheckbox\u001b[39m\u001b[39m'\u001b[39m\u001b[39m]\u001b[39m\u001b[39m\"\u001b[39m)\n\u001b[0;32m     23\u001b[0m checkbox\u001b[39m.\u001b[39mclick()\n\u001b[0;32m     25\u001b[0m \u001b[39m# Get the page source after JavaScript execution\u001b[39;00m\n",
      "\u001b[1;31mAttributeError\u001b[0m: 'WebDriver' object has no attribute 'find_element_by_xpath'"
     ]
    }
   ],
   "source": [
    "from selenium import webdriver\n",
    "from selenium.webdriver.chrome.options import Options\n",
    "\n",
    "chromium_path = r'chrome-win64\\chrome.exe'  # Replace with the actual path to your Chromium executable\n",
    "\n",
    "url = 'https://www.mediamarkt.es/es/product/_secadora-aeg-t7dbg841-bomba-de-calor-8-kg-a-blanco-1455590.html'\n",
    "\n",
    "# Use the appropriate webdriver for your browser (e.g., Chrome, Firefox, etc.)\n",
    "chrome_options = Options()\n",
    "# chrome_options.add_argument('--disable-gpu')\n",
    "chrome_options.binary_location = chromium_path\n",
    "driver = webdriver.Chrome(options=chrome_options)  # Make sure to specify the correct path to chromedriver\n",
    "\n",
    "try:\n",
    "    driver.get(url)\n",
    "    # Find and click the element using its XPath\n",
    "    checkbox = driver.find_element_by_xpath('/html/body/table/tbody/tr/td/div/div[1]/table/tbody/tr/td[1]/div[1]/div/label')\n",
    "    checkbox.click()\n",
    "\n",
    "    # Now the checkbox should be clicked (if possible) based on the provided XPath\n",
    "    # You can continue with the rest of your code here\n",
    "\n",
    "finally:\n",
    "    driver.quit()\n"
   ]
  },
  {
   "cell_type": "code",
   "execution_count": 15,
   "metadata": {},
   "outputs": [
    {
     "ename": "TimeoutException",
     "evalue": "Message: \nStacktrace:\nBacktrace:\n\tGetHandleVerifier [0x00007FF67B863E62+57250]\n\t(No symbol) [0x00007FF67B7DBC02]\n\t(No symbol) [0x00007FF67B6AE0BB]\n\t(No symbol) [0x00007FF67B6E765E]\n\t(No symbol) [0x00007FF67B6E774C]\n\t(No symbol) [0x00007FF67B720267]\n\t(No symbol) [0x00007FF67B7067EF]\n\t(No symbol) [0x00007FF67B71E312]\n\t(No symbol) [0x00007FF67B706583]\n\t(No symbol) [0x00007FF67B6DCC71]\n\t(No symbol) [0x00007FF67B6DDE54]\n\tGetHandleVerifier [0x00007FF67BB14CF2+2879026]\n\tGetHandleVerifier [0x00007FF67BB66F30+3215472]\n\tGetHandleVerifier [0x00007FF67BB5FD4F+3186319]\n\tGetHandleVerifier [0x00007FF67B8F5505+652869]\n\t(No symbol) [0x00007FF67B7E7518]\n\t(No symbol) [0x00007FF67B7E35F4]\n\t(No symbol) [0x00007FF67B7E36EC]\n\t(No symbol) [0x00007FF67B7D38E3]\n\tBaseThreadInitThunk [0x00007FFDDC7B7614+20]\n\tRtlUserThreadStart [0x00007FFDDD0826B1+33]\n",
     "output_type": "error",
     "traceback": [
      "\u001b[1;31m---------------------------------------------------------------------------\u001b[0m",
      "\u001b[1;31mTimeoutException\u001b[0m                          Traceback (most recent call last)",
      "Cell \u001b[1;32mIn[15], line 22\u001b[0m\n\u001b[0;32m     20\u001b[0m     \u001b[39m# Wait for the checkbox element to be clickable before clicking it\u001b[39;00m\n\u001b[0;32m     21\u001b[0m     wait \u001b[39m=\u001b[39m WebDriverWait(driver, \u001b[39m10\u001b[39m)\n\u001b[1;32m---> 22\u001b[0m     checkbox \u001b[39m=\u001b[39m wait\u001b[39m.\u001b[39;49muntil(EC\u001b[39m.\u001b[39;49melement_to_be_clickable((By\u001b[39m.\u001b[39;49mXPATH, \u001b[39m'\u001b[39;49m\u001b[39m//*[@id=\u001b[39;49m\u001b[39m\"\u001b[39;49m\u001b[39mchallenge-stage\u001b[39;49m\u001b[39m\"\u001b[39;49m\u001b[39m]/div/label/input\u001b[39;49m\u001b[39m'\u001b[39;49m)))\n\u001b[0;32m     23\u001b[0m     checkbox\u001b[39m.\u001b[39mclick()\n\u001b[0;32m     25\u001b[0m     \u001b[39m# Now the checkbox should be clicked (if possible) based on the provided XPath\u001b[39;00m\n\u001b[0;32m     26\u001b[0m     \u001b[39m# You can continue with the rest of your code here\u001b[39;00m\n\u001b[0;32m     27\u001b[0m \n\u001b[0;32m     28\u001b[0m \u001b[39mfinally\u001b[39;00m:\n",
      "File \u001b[1;32m~\\AppData\\Local\\Packages\\PythonSoftwareFoundation.Python.3.11_qbz5n2kfra8p0\\LocalCache\\local-packages\\Python311\\site-packages\\selenium\\webdriver\\support\\wait.py:90\u001b[0m, in \u001b[0;36mWebDriverWait.until\u001b[1;34m(self, method, message)\u001b[0m\n\u001b[0;32m     88\u001b[0m     \u001b[39mif\u001b[39;00m time\u001b[39m.\u001b[39mmonotonic() \u001b[39m>\u001b[39m end_time:\n\u001b[0;32m     89\u001b[0m         \u001b[39mbreak\u001b[39;00m\n\u001b[1;32m---> 90\u001b[0m \u001b[39mraise\u001b[39;00m TimeoutException(message, screen, stacktrace)\n",
      "\u001b[1;31mTimeoutException\u001b[0m: Message: \nStacktrace:\nBacktrace:\n\tGetHandleVerifier [0x00007FF67B863E62+57250]\n\t(No symbol) [0x00007FF67B7DBC02]\n\t(No symbol) [0x00007FF67B6AE0BB]\n\t(No symbol) [0x00007FF67B6E765E]\n\t(No symbol) [0x00007FF67B6E774C]\n\t(No symbol) [0x00007FF67B720267]\n\t(No symbol) [0x00007FF67B7067EF]\n\t(No symbol) [0x00007FF67B71E312]\n\t(No symbol) [0x00007FF67B706583]\n\t(No symbol) [0x00007FF67B6DCC71]\n\t(No symbol) [0x00007FF67B6DDE54]\n\tGetHandleVerifier [0x00007FF67BB14CF2+2879026]\n\tGetHandleVerifier [0x00007FF67BB66F30+3215472]\n\tGetHandleVerifier [0x00007FF67BB5FD4F+3186319]\n\tGetHandleVerifier [0x00007FF67B8F5505+652869]\n\t(No symbol) [0x00007FF67B7E7518]\n\t(No symbol) [0x00007FF67B7E35F4]\n\t(No symbol) [0x00007FF67B7E36EC]\n\t(No symbol) [0x00007FF67B7D38E3]\n\tBaseThreadInitThunk [0x00007FFDDC7B7614+20]\n\tRtlUserThreadStart [0x00007FFDDD0826B1+33]\n"
     ]
    }
   ],
   "source": [
    "from selenium import webdriver\n",
    "from selenium.webdriver.chrome.options import Options\n",
    "from selenium.webdriver.common.by import By\n",
    "from selenium.webdriver.support.ui import WebDriverWait\n",
    "from selenium.webdriver.support import expected_conditions as EC\n",
    "\n",
    "chromium_path = r'chrome-win64\\chrome.exe'  # Replace with the actual path to your Chromium executable\n",
    "\n",
    "url = 'https://www.mediamarkt.es/es/product/_secadora-aeg-t7dbg841-bomba-de-calor-8-kg-a-blanco-1455590.html'\n",
    "\n",
    "# Use the appropriate webdriver for your browser (e.g., Chrome, Firefox, etc.)\n",
    "chrome_options = Options()\n",
    "# chrome_options.add_argument('--disable-gpu')\n",
    "chrome_options.binary_location = chromium_path\n",
    "driver = webdriver.Chrome(options=chrome_options)  # Make sure to specify the correct path to chromedriver\n",
    "\n",
    "try:\n",
    "    driver.get(url)\n",
    "    \n",
    "    # Wait for the checkbox element to be clickable before clicking it\n",
    "    wait = WebDriverWait(driver, 10)\n",
    "    checkbox = wait.until(EC.element_to_be_clickable((By.XPATH, '//*[@id=\"challenge-stage\"]/div/label/input')))\n",
    "    checkbox.click()\n",
    "\n",
    "    # Now the checkbox should be clicked (if possible) based on the provided XPath\n",
    "    # You can continue with the rest of your code here\n",
    "\n",
    "finally:\n",
    "    driver.quit()\n"
   ]
  },
  {
   "cell_type": "code",
   "execution_count": 17,
   "metadata": {},
   "outputs": [
    {
     "ename": "TimeoutException",
     "evalue": "Message: \nStacktrace:\nBacktrace:\n\tGetHandleVerifier [0x00007FF67B863E62+57250]\n\t(No symbol) [0x00007FF67B7DBC02]\n\t(No symbol) [0x00007FF67B6AE0BB]\n\t(No symbol) [0x00007FF67B6E765E]\n\t(No symbol) [0x00007FF67B6E774C]\n\t(No symbol) [0x00007FF67B720267]\n\t(No symbol) [0x00007FF67B7067EF]\n\t(No symbol) [0x00007FF67B71E312]\n\t(No symbol) [0x00007FF67B706583]\n\t(No symbol) [0x00007FF67B6DCC71]\n\t(No symbol) [0x00007FF67B6DDE54]\n\tGetHandleVerifier [0x00007FF67BB14CF2+2879026]\n\tGetHandleVerifier [0x00007FF67BB66F30+3215472]\n\tGetHandleVerifier [0x00007FF67BB5FD4F+3186319]\n\tGetHandleVerifier [0x00007FF67B8F5505+652869]\n\t(No symbol) [0x00007FF67B7E7518]\n\t(No symbol) [0x00007FF67B7E35F4]\n\t(No symbol) [0x00007FF67B7E36EC]\n\t(No symbol) [0x00007FF67B7D38E3]\n\tBaseThreadInitThunk [0x00007FFDDC7B7614+20]\n\tRtlUserThreadStart [0x00007FFDDD0826B1+33]\n",
     "output_type": "error",
     "traceback": [
      "\u001b[1;31m---------------------------------------------------------------------------\u001b[0m",
      "\u001b[1;31mTimeoutException\u001b[0m                          Traceback (most recent call last)",
      "Cell \u001b[1;32mIn[17], line 22\u001b[0m\n\u001b[0;32m     20\u001b[0m     \u001b[39m# Wait for the checkbox element to be clickable before clicking it\u001b[39;00m\n\u001b[0;32m     21\u001b[0m     wait \u001b[39m=\u001b[39m WebDriverWait(driver, \u001b[39m30\u001b[39m)\n\u001b[1;32m---> 22\u001b[0m     checkbox \u001b[39m=\u001b[39m wait\u001b[39m.\u001b[39;49muntil(EC\u001b[39m.\u001b[39;49melement_to_be_clickable((By\u001b[39m.\u001b[39;49mXPATH, \u001b[39m'\u001b[39;49m\u001b[39m//*[@id=\u001b[39;49m\u001b[39m\"\u001b[39;49m\u001b[39mchallenge-form\u001b[39;49m\u001b[39m\"\u001b[39;49m\u001b[39m]/div[2]/div[1]/div[2]/div[2]/div[1]/label\u001b[39;49m\u001b[39m'\u001b[39;49m)))\n\u001b[0;32m     23\u001b[0m     checkbox\u001b[39m.\u001b[39mclick()\n\u001b[0;32m     25\u001b[0m     \u001b[39m# Now the checkbox should be clicked (if possible) based on the provided XPath\u001b[39;00m\n\u001b[0;32m     26\u001b[0m     \u001b[39m# You can continue with the rest of your code here\u001b[39;00m\n\u001b[0;32m     27\u001b[0m \n\u001b[0;32m     28\u001b[0m \u001b[39mfinally\u001b[39;00m:\n",
      "File \u001b[1;32m~\\AppData\\Local\\Packages\\PythonSoftwareFoundation.Python.3.11_qbz5n2kfra8p0\\LocalCache\\local-packages\\Python311\\site-packages\\selenium\\webdriver\\support\\wait.py:90\u001b[0m, in \u001b[0;36mWebDriverWait.until\u001b[1;34m(self, method, message)\u001b[0m\n\u001b[0;32m     88\u001b[0m     \u001b[39mif\u001b[39;00m time\u001b[39m.\u001b[39mmonotonic() \u001b[39m>\u001b[39m end_time:\n\u001b[0;32m     89\u001b[0m         \u001b[39mbreak\u001b[39;00m\n\u001b[1;32m---> 90\u001b[0m \u001b[39mraise\u001b[39;00m TimeoutException(message, screen, stacktrace)\n",
      "\u001b[1;31mTimeoutException\u001b[0m: Message: \nStacktrace:\nBacktrace:\n\tGetHandleVerifier [0x00007FF67B863E62+57250]\n\t(No symbol) [0x00007FF67B7DBC02]\n\t(No symbol) [0x00007FF67B6AE0BB]\n\t(No symbol) [0x00007FF67B6E765E]\n\t(No symbol) [0x00007FF67B6E774C]\n\t(No symbol) [0x00007FF67B720267]\n\t(No symbol) [0x00007FF67B7067EF]\n\t(No symbol) [0x00007FF67B71E312]\n\t(No symbol) [0x00007FF67B706583]\n\t(No symbol) [0x00007FF67B6DCC71]\n\t(No symbol) [0x00007FF67B6DDE54]\n\tGetHandleVerifier [0x00007FF67BB14CF2+2879026]\n\tGetHandleVerifier [0x00007FF67BB66F30+3215472]\n\tGetHandleVerifier [0x00007FF67BB5FD4F+3186319]\n\tGetHandleVerifier [0x00007FF67B8F5505+652869]\n\t(No symbol) [0x00007FF67B7E7518]\n\t(No symbol) [0x00007FF67B7E35F4]\n\t(No symbol) [0x00007FF67B7E36EC]\n\t(No symbol) [0x00007FF67B7D38E3]\n\tBaseThreadInitThunk [0x00007FFDDC7B7614+20]\n\tRtlUserThreadStart [0x00007FFDDD0826B1+33]\n"
     ]
    }
   ],
   "source": [
    "from selenium import webdriver\n",
    "from selenium.webdriver.chrome.options import Options\n",
    "from selenium.webdriver.common.by import By\n",
    "from selenium.webdriver.support.ui import WebDriverWait\n",
    "from selenium.webdriver.support import expected_conditions as EC\n",
    "\n",
    "chromium_path = r'chrome-win64\\chrome.exe'  # Replace with the actual path to your Chromium executable\n",
    "\n",
    "url = 'https://www.mediamarkt.es/es/product/_secadora-aeg-t7dbg841-bomba-de-calor-8-kg-a-blanco-1455590.html'\n",
    "\n",
    "# Use the appropriate webdriver for your browser (e.g., Chrome, Firefox, etc.)\n",
    "chrome_options = Options()\n",
    "# chrome_options.add_argument('--disable-gpu')\n",
    "chrome_options.binary_location = chromium_path\n",
    "driver = webdriver.Chrome(options=chrome_options)  # Make sure to specify the correct path to chromedriver\n",
    "\n",
    "try:\n",
    "    driver.get(url)\n",
    "    \n",
    "    # Wait for the checkbox element to be clickable before clicking it\n",
    "    wait = WebDriverWait(driver, 30)\n",
    "    checkbox = wait.until(EC.element_to_be_clickable((By.XPATH, '//*[@id=\"challenge-form\"]/div[2]/div[1]/div[2]/div[2]/div[1]/label')))\n",
    "    checkbox.click()\n",
    "\n",
    "    # Now the checkbox should be clicked (if possible) based on the provided XPath\n",
    "    # You can continue with the rest of your code here\n",
    "\n",
    "finally:\n",
    "    driver.quit()\n"
   ]
  },
  {
   "cell_type": "code",
   "execution_count": 18,
   "metadata": {},
   "outputs": [
    {
     "name": "stdout",
     "output_type": "stream",
     "text": [
      "Found the element: Secadora - AEG T7DBG841, Bomba de calor, 8 kg, A++, Blanco\n"
     ]
    }
   ],
   "source": [
    "from bs4 import BeautifulSoup\n",
    "\n",
    "# Load the HTML content from the file\n",
    "with open(r'F:\\infiniti research\\mediamarkt scraper\\mediamarkt.html', 'r', encoding='utf-8') as file:\n",
    "    html_content = file.read()\n",
    "\n",
    "# Parse the HTML content using BeautifulSoup\n",
    "soup = BeautifulSoup(html_content, 'html.parser')\n",
    "\n",
    "# Find the specific element using the provided attributes (if available)\n",
    "element = soup.find('h1', {'color': '#3a3a3a', 'font-family': 'default', 'spacing': 'base'})\n",
    "\n",
    "if element:\n",
    "    # Extract the text of the element\n",
    "    element_text = element.get_text(strip=True)\n",
    "    print(\"Found the element:\", element_text)\n",
    "else:\n",
    "    print(\"HTML content not loaded or element not found\")\n"
   ]
  },
  {
   "cell_type": "code",
   "execution_count": 20,
   "metadata": {},
   "outputs": [
    {
     "name": "stdout",
     "output_type": "stream",
     "text": [
      "Title: Secadora - AEG T7DBG841, Bomba de calor, 8 kg, A++, Blanco\n",
      "Price: € 664,\n",
      "Description: Description not found\n"
     ]
    }
   ],
   "source": [
    "from bs4 import BeautifulSoup\n",
    "\n",
    "# Load the HTML content from the file\n",
    "with open('mediamarkt.html', 'r', encoding='utf-8') as file:\n",
    "    html_content = file.read()\n",
    "\n",
    "# Parse the HTML content using BeautifulSoup\n",
    "soup = BeautifulSoup(html_content, 'html.parser')\n",
    "\n",
    "# Extracting the title, price, and description\n",
    "title_element = soup.find('h1', class_='sc-hLBbgP')\n",
    "title = title_element.text.strip() if title_element else \"Title not found\"\n",
    "\n",
    "price_element = soup.find('span', {'data-test': 'branded-price-whole-value'})\n",
    "price = price_element.text.strip() if price_element else \"Price not found\"\n",
    "\n",
    "description_element = soup.find('div', class_='sc-1hdf4hr-2')\n",
    "description = description_element.text.strip() if description_element else \"Description not found\"\n",
    "\n",
    "# Print the extracted information\n",
    "print(\"Title:\", title)\n",
    "print(\"Price:\", price)\n",
    "print(\"Description:\", description)\n"
   ]
  },
  {
   "cell_type": "code",
   "execution_count": 25,
   "metadata": {},
   "outputs": [
    {
     "name": "stdout",
     "output_type": "stream",
     "text": [
      "Title: Secadora - AEG T7DBG841, Bomba de calor, 8 kg, A++, Blanco\n",
      "Price: € 664,\n",
      "Description: DescripciónDeja tus prendas listas y más suaves con la Secadora T7DBG841 de AEG de la Serie 7000, con bomba de calor, tecnología SensiDry y filtro OkoFlow.Programas para todo tipo de tejidosPodrás controlar de la manera más sencilla los diferentes tipos de funcionamiento que tendrás para ropa de cama, algodón eco, edredones, seda, sintéticos, lana y ropa deportiva.Secado suave y eficienteGracias a la bomba de calor, la tecnología SensiDry, extrae la humedad de los tejidos a la mitad de temperatura que las secadoras convencionales, evitando que las prendas sean sometidas a un calor innecesario. Además, al trabajar a menor temperatura podrás ahorrar energía.Filtro OKOFlow, más eficiente y fácil de limpiarEsta Secadora con sistema OKOFlow, que incluye un único filtro fácil de extraer y de limpiar, seca toda la carga sin esfuerzo y conserva un rendimiento optimizado de gran eficiencia energética.Tambor ProTex, seca tu ropa con mayor delicadezaDiseñado especialmente para cuidar de tus prendas. Con este tambor, tus prendas se benefician de un flujo de aire más eficaz y gozan de espacio suficiente para evitar al máximo las arrugas, los pliegues y los enredos.Características técnicasCaracteristicas técnicasTipo de dispositivoSecadoraTipo de cargaCarga FrontalTipo de construcciónIndependienteCapacidad secado8 kgSistema de calorBomba de calorProgramasProgramas10EquipoSensor de humedadSíFunción Anti-arrugasSíApertura de la puertaIzquierdaBloqueo infantilSíIluminación interiorNoCaract. especialesBomba de Calor, filtro OkoFlow, Display LCD, Tecnología SensiDryVisualización/ControlTipo de controlMecánicoMonitorDisplay LCDFuente de alimentaciónPotencia eléctrica800 WCaracterísticas generalesMedidas (An x Al x F)59.6 cm x 85 cm x 63.8 cmColor (por fabricante)BlancoAltura85 cmAnchura59.6 cmProfundidad63.8 cmMostrar todos los detalles del producto**CÁLCULO DE LA FINANCIACIÓNImporte financiado% TIN% TAEImporte de las cuotasÚltima cuotaNº de cuotasPrecio total a plazos e importe adeudadoIntereses y coste total del créditoImporte financiado664,00 €% TIN17.95%% TAE19.5%Importe de las cuotas60,86 €Última cuota60,86 €Nº de cuotas12 mesesPrecio total a plazos e importe adeudado730,32 €Intereses y coste total del crédito66,32 €Publicidad. Financiación a través de la MediaMarkt Club Card VISA, emitida por la entidad de pago híbrida CaixaBank Payments & Consumer E.F.C., E.P., S.A.U., y sujeta a su autorización. La entidad ha escogido como sistema de protección de los fondos recibidos de usuarios de servicios de pago que presta su depósito en una cuenta bancaria separada abierta en CaixaBank, S.A. Sistema amortización francés.Infórmate sobre tu tarjeta con pago aplazado(revolving): \n",
      "www.caixabankpc.com/es/productos\n",
      "Valoraciones del producto4.8Basado en 39 valoraciones También tenemos en cuenta reseñas de fuentes de terceros (por ejemplo, la página oficial del fabricante). Las reseñas verificadas se marcan como \"Verificado\". Valora este productoÚltimoÚltimoÚltimoMejorMejorÚtilÚtil30/5/2023Como me esperaba de AEGde JOSAN(Esta reseña se ha recibido a través de una promoción.) Aunque es pronto para hacer una valoración. \n",
      "Pero de momento estoy muy satisfecho, el diseño es muy bonito, la programación es sencilla, es sil...Mostrar másPublicado originalmente en aeg.com.es6/5/2023Lavadora Aegde Margarita N.Adquirí una lavadora AEG con autodosis, nada más comprarla me ofrecen que contrate una garantía adicional de componentes electricos,  en estos momentos entiendo el porque,  en año y medio se ha averia...Mostrar más¿Útil?Si (0)No (0)8/12/2022Un aliadode Gemmaxj(Esta reseña se ha recibido a través de una promoción.) Adquiri esta marca porque la anterior que tuve fueron 14 años y me ha dado la confianza de que es una marca de garantía. \n",
      "Fácil manejo y muy bu...Mostrar másPublicado originalmente en aeg.com.es15/11/2022Muy buenade RaisEs muy silenciosa, rápida y eficaz, avisa cuando el depósito de agua esta lleno y también detecta el secado y para antes del tiempo si es necesario.Publicado originalmente en aeg.com.es18/10/2022Comodidadde PetitMuy eficaz en el secado y bastante silenciosa los filtros hacen muy bien su trabajo el depósito de agua es fácil de vaciar y la ropa sale estupendaPublicado originalmente en aeg.com.es12/10/2022Buen productode Npsyco(Esta reseña se ha recibido a través de una promoción.) Cumple con mis expectativas de calidad y precio. El multiprograma facilita la elección en funcion del peso y el tiempo de secado.Publicado originalmente en aeg.com.es11/10/2022EXCELENTEde Jose MARIA V. - VerificadoExcelente calidad precio. La recomiendo ya que seca perfectamente, y lo más importante es que no tarda tanto como otras secadoras, que llegan hasta las cuatro horas.  En dos horas tiene la ropa seca y...Mostrar más¿Útil?Si (0)No (0)25/9/2022Muy completade Jjsaa(Esta reseña se ha recibido a través de una promoción.) Buena calidad, facil programación con gran número de opciones pero muy intuitiva. Muy contentos con la elección.Publicado originalmente en aeg.com.es11/9/2022EXCELENTE APARATOde PISTATXO(Esta reseña se ha recibido a través de una promoción.) FUNCIONAMIENTO EXCELENTE , ACABADOS DE CALIDAD, Y UN BONITO DISEÑO.Publicado originalmente en aeg.com.es19/8/2022Muy buena comprade RG9S - VerificadoExcelente secadora, siempre termina la ropa completamente seca¿Útil?Si (0)No (0)Página siguiente ›\n"
     ]
    }
   ],
   "source": [
    "from bs4 import BeautifulSoup\n",
    "\n",
    "# Load the HTML content from the file\n",
    "with open('mediamarkt.html', 'r', encoding='utf-8') as file:\n",
    "    html_content = file.read()\n",
    "\n",
    "# Parse the HTML content using BeautifulSoup\n",
    "soup = BeautifulSoup(html_content, 'html.parser')\n",
    "\n",
    "# Extracting the title, price, and description\n",
    "title_element = soup.find('h1', class_='sc-hLBbgP')\n",
    "title = title_element.text.strip() if title_element else \"Title not found\"\n",
    "\n",
    "price_element = soup.find('span', {'data-test': 'branded-price-whole-value'})\n",
    "price = price_element.text.strip() if price_element else \"Price not found\"\n",
    "\n",
    "description_element = soup.find('div', class_='index-styled__StyledPdpContentArea-sc-55a771f1-0 hkjvvF')\n",
    "description = description_element.text.strip() if description_element else \"Description not found\"\n",
    "\n",
    "# Print the extracted information\n",
    "print(\"Title:\", title)\n",
    "print(\"Price:\", price)\n",
    "print(\"Description:\", description)\n"
   ]
  },
  {
   "cell_type": "code",
   "execution_count": 38,
   "metadata": {},
   "outputs": [
    {
     "name": "stdout",
     "output_type": "stream",
     "text": [
      "Title: Secadora - AEG T7DBG841, Bomba de calor, 8 kg, A++, Blanco\n",
      "Price: € 664,\n",
      "Description: DescripciónDeja tus prendas listas y más suaves con la Secadora T7DBG841 de AEG de la Serie 7000, con bomba de calor, tecnología SensiDry y filtro OkoFlow.Programas para todo tipo de tejidosPodrás controlar de la manera más sencilla los diferentes tipos de funcionamiento que tendrás para ropa de cama, algodón eco, edredones, seda, sintéticos, lana y ropa deportiva.Secado suave y eficienteGracias a la bomba de calor, la tecnología SensiDry, extrae la humedad de los tejidos a la mitad de temperatura que las secadoras convencionales, evitando que las prendas sean sometidas a un calor innecesario. Además, al trabajar a menor temperatura podrás ahorrar energía.Filtro OKOFlow, más eficiente y fácil de limpiarEsta Secadora con sistema OKOFlow, que incluye un único filtro fácil de extraer y de limpiar, seca toda la carga sin esfuerzo y conserva un rendimiento optimizado de gran eficiencia energética.Tambor ProTex, seca tu ropa con mayor delicadezaDiseñado especialmente para cuidar de tus prendas. Con este tambor, tus prendas se benefician de un flujo de aire más eficaz y gozan de espacio suficiente para evitar al máximo las arrugas, los pliegues y los enredos.Características técnicasCaracteristicas técnicasTipo de dispositivoSecadoraTipo de cargaCarga FrontalTipo de construcciónIndependienteCapacidad secado8 kgSistema de calorBomba de calorProgramasProgramas10EquipoSensor de humedadSíFunción Anti-arrugasSíApertura de la puertaIzquierdaBloqueo infantilSíIluminación interiorNoCaract. especialesBomba de Calor, filtro OkoFlow, Display LCD, Tecnología SensiDryVisualización/ControlTipo de controlMecánicoMonitorDisplay LCDFuente de alimentaciónPotencia eléctrica800 WCaracterísticas generalesMedidas (An x Al x F)59.6 cm x 85 cm x 63.8 cmColor (por fabricante)BlancoAltura85 cmAnchura59.6 cmProfundidad63.8 cmMostrar todos los detalles del producto**CÁLCULO DE LA FINANCIACIÓNImporte financiado% TIN% TAEImporte de las cuotasÚltima cuotaNº de cuotasPrecio total a plazos e importe adeudadoIntereses y coste total del créditoImporte financiado664,00 €% TIN17.95%% TAE19.5%Importe de las cuotas60,86 €Última cuota60,86 €Nº de cuotas12 mesesPrecio total a plazos e importe adeudado730,32 €Intereses y coste total del crédito66,32 €Publicidad. Financiación a través de la MediaMarkt Club Card VISA, emitida por la entidad de pago híbrida CaixaBank Payments & Consumer E.F.C., E.P., S.A.U., y sujeta a su autorización. La entidad ha escogido como sistema de protección de los fondos recibidos de usuarios de servicios de pago que presta su depósito en una cuenta bancaria separada abierta en CaixaBank, S.A. Sistema amortización francés.Infórmate sobre tu tarjeta con pago aplazado(revolving): \n",
      "www.caixabankpc.com/es/productos\n",
      "Valoraciones del producto4.8Basado en 39 valoraciones También tenemos en cuenta reseñas de fuentes de terceros (por ejemplo, la página oficial del fabricante). Las reseñas verificadas se marcan como \"Verificado\". Valora este productoÚltimoÚltimoÚltimoMejorMejorÚtilÚtil30/5/2023Como me esperaba de AEGde JOSAN(Esta reseña se ha recibido a través de una promoción.) Aunque es pronto para hacer una valoración. \n",
      "Pero de momento estoy muy satisfecho, el diseño es muy bonito, la programación es sencilla, es sil...Mostrar másPublicado originalmente en aeg.com.es6/5/2023Lavadora Aegde Margarita N.Adquirí una lavadora AEG con autodosis, nada más comprarla me ofrecen que contrate una garantía adicional de componentes electricos,  en estos momentos entiendo el porque,  en año y medio se ha averia...Mostrar más¿Útil?Si (0)No (0)8/12/2022Un aliadode Gemmaxj(Esta reseña se ha recibido a través de una promoción.) Adquiri esta marca porque la anterior que tuve fueron 14 años y me ha dado la confianza de que es una marca de garantía. \n",
      "Fácil manejo y muy bu...Mostrar másPublicado originalmente en aeg.com.es15/11/2022Muy buenade RaisEs muy silenciosa, rápida y eficaz, avisa cuando el depósito de agua esta lleno y también detecta el secado y para antes del tiempo si es necesario.Publicado originalmente en aeg.com.es18/10/2022Comodidadde PetitMuy eficaz en el secado y bastante silenciosa los filtros hacen muy bien su trabajo el depósito de agua es fácil de vaciar y la ropa sale estupendaPublicado originalmente en aeg.com.es12/10/2022Buen productode Npsyco(Esta reseña se ha recibido a través de una promoción.) Cumple con mis expectativas de calidad y precio. El multiprograma facilita la elección en funcion del peso y el tiempo de secado.Publicado originalmente en aeg.com.es11/10/2022EXCELENTEde Jose MARIA V. - VerificadoExcelente calidad precio. La recomiendo ya que seca perfectamente, y lo más importante es que no tarda tanto como otras secadoras, que llegan hasta las cuatro horas.  En dos horas tiene la ropa seca y...Mostrar más¿Útil?Si (0)No (0)25/9/2022Muy completade Jjsaa(Esta reseña se ha recibido a través de una promoción.) Buena calidad, facil programación con gran número de opciones pero muy intuitiva. Muy contentos con la elección.Publicado originalmente en aeg.com.es11/9/2022EXCELENTE APARATOde PISTATXO(Esta reseña se ha recibido a través de una promoción.) FUNCIONAMIENTO EXCELENTE , ACABADOS DE CALIDAD, Y UN BONITO DISEÑO.Publicado originalmente en aeg.com.es19/8/2022Muy buena comprade RG9S - VerificadoExcelente secadora, siempre termina la ropa completamente seca¿Útil?Si (0)No (0)Página siguiente ›\n",
      "Reviews:\n"
     ]
    }
   ],
   "source": [
    "import pandas as pd\n",
    "from bs4 import BeautifulSoup\n",
    "\n",
    "# Load the HTML content from the file\n",
    "with open('mediamarkt.html', 'r', encoding='utf-8') as file:\n",
    "    html_content = file.read()\n",
    "\n",
    "# Parse the HTML content using BeautifulSoup\n",
    "soup = BeautifulSoup(html_content, 'html.parser')\n",
    "\n",
    "# Extracting the title, price, and description\n",
    "title_element = soup.find('h1', class_='sc-hLBbgP')\n",
    "title = title_element.text.strip() if title_element else \"Title not found\"\n",
    "\n",
    "price_element = soup.find('span', {'data-test': 'branded-price-whole-value'})\n",
    "price = price_element.text.strip() if price_element else \"Price not found\"\n",
    "\n",
    "description_element = soup.find('div', class_='index-styled__StyledPdpContentArea-sc-55a771f1-0 hkjvvF')\n",
    "description = description_element.text.strip() if description_element else \"Description not found\"\n",
    "\n",
    "# Print the extracted information\n",
    "print(\"Title:\", title)\n",
    "print(\"Price:\", price)\n",
    "print(\"Description:\", description)\n",
    "\n",
    "# Scrape reviews\n",
    "reviews = []\n",
    "reviews_divs = soup.find_all('div', class_='flix-p')\n",
    "for div in reviews_divs:\n",
    "    review_text = div.get_text(strip=True)\n",
    "    if review_text:\n",
    "        reviews.append(review_text)\n",
    "\n",
    "# Create a DataFrame with the scraped data\n",
    "data = {\n",
    "    'Title': [title],\n",
    "    'Price': [price],\n",
    "    'Description': [description],\n",
    "    'Reviews': [reviews],\n",
    "}\n",
    "df = pd.DataFrame(data)\n",
    "\n",
    "# Save the DataFrame to a CSV file\n",
    "df.to_csv('product_data.csv', index=False)\n",
    "\n",
    "# Print the reviews\n",
    "print(\"Reviews:\")\n",
    "for review in reviews:\n",
    "    print(review)\n"
   ]
  },
  {
   "cell_type": "code",
   "execution_count": null,
   "metadata": {},
   "outputs": [],
   "source": []
  }
 ],
 "metadata": {
  "kernelspec": {
   "display_name": "Python 3",
   "language": "python",
   "name": "python3"
  },
  "language_info": {
   "codemirror_mode": {
    "name": "ipython",
    "version": 3
   },
   "file_extension": ".py",
   "mimetype": "text/x-python",
   "name": "python",
   "nbconvert_exporter": "python",
   "pygments_lexer": "ipython3",
   "version": "3.11.4"
  },
  "orig_nbformat": 4
 },
 "nbformat": 4,
 "nbformat_minor": 2
}
